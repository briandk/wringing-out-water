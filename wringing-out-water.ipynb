{
 "cells": [
  {
   "cell_type": "markdown",
   "metadata": {},
   "source": [
    "# Background\n",
    "\n",
    "My washing machine broke. I discovered this as I had a pile of sopping wet clothes at the bottom. \n",
    "\n",
    "And I had an idea.\n",
    "\n",
    "My electric dryer still functions, and there was a spare bin in the corner."
   ]
  },
  {
   "cell_type": "markdown",
   "metadata": {},
   "source": [
    "# Experimental Protocol\n",
    "\n",
    "I got the bin. As I pulled articles of clothing out of the washer, I wrung them out, collecting all the water runoff in the spare bin. I wrung each article as much as I thought reasonable, and the whole thing took about ten minutes.\n",
    "\n",
    "After I wrung all the items and transferred them into the dryer, I weighed the bin (with water in it). Then, I dumped out as much water as I could and weighed the bin again."
   ]
  },
  {
   "cell_type": "markdown",
   "metadata": {},
   "source": [
    "# Research Questions\n",
    "\n",
    "1. What's the approximate mass of water I wrung out?\n",
    "2. If I wanted my clothes reasonably dry, how much energy did I save the dryer, given that I shunted off a bunch of water that it would no longer have to try to vaporize?\n",
    "3. Given my electricity rate and the energy \"savings\" from wringing, how much money did I save?\n",
    "4. What was my average power output for the time wringing?\n",
    "5. Given the energy savings per time unit, would my time have been more profitable spent doing something else? That is, how much would I have to earn per unit time in order for the water wringing out to be a less profitable activity, and thus, have greater-than-zero opportunity cost?"
   ]
  },
  {
   "cell_type": "markdown",
   "metadata": {},
   "source": [
    "# Assumptions\n",
    "\n",
    "1. Because I lack a baseline, I'm assuming the water in the washer was about 60 degrees Fahrenheit, or about 16 degrees Centigrade"
   ]
  },
  {
   "cell_type": "markdown",
   "metadata": {},
   "source": [
    "# Analysis"
   ]
  },
  {
   "cell_type": "markdown",
   "metadata": {},
   "source": [
    "## What's the approximate mass of water I wrang out?"
   ]
  },
  {
   "cell_type": "markdown",
   "metadata": {},
   "source": [
    "$$\n",
    "\\begin{equation}\n",
    "\\begin{split}\n",
    "\\Delta m & = W_{final} - W_{initial} \\\\\n",
    " & = 1730\\textrm{g} - 1130\\textrm{g} \\\\\n",
    " & = 600\\textrm{g}\n",
    "\\end{split}\n",
    "\\end{equation}\n",
    "$$"
   ]
  },
  {
   "cell_type": "markdown",
   "metadata": {
    "collapsed": true
   },
   "source": [
    "## How much energy did I save?"
   ]
  },
  {
   "cell_type": "markdown",
   "metadata": {},
   "source": [
    "$$\n",
    "\\begin{equation}\n",
    "\\begin{split}\n",
    "E_{saved} & = (\\textrm{Energy to raise the water to 100 C}) + (\\textrm{Energy to vaporize the water}) \\\\\n",
    "    & = m \\times \n",
    "        \\left(\n",
    "           \\left(\n",
    "               \\textrm{Specific heat of liquid water} \\times \\Delta T\n",
    "           \\right) \n",
    "            + \n",
    "            \\left(\n",
    "                \\textrm{Specific heat of vaporization of water}\n",
    "            \\right)\n",
    "        \\right) \\\\\n",
    "    & = \\left(\n",
    "            600 \\mathrm{g}\n",
    "        \\right) \n",
    "        \\times \n",
    "        \\left(\n",
    "            \\left(\n",
    "                \\frac{4.181 \\mathrm{J}}{\\mathrm{g} \\times \\mathrm{^\\circ K}}\n",
    "                \\times \n",
    "                \\left(\n",
    "                        100^{\\circ} \\mathrm{C} - 16^\\circ \\mathrm{C}\n",
    "                \\right)    \n",
    "            \\right)\n",
    "        +\n",
    "            \\left(\n",
    "                \\frac{2230 \\mathrm{J}}{\\mathrm{g} \\times \\mathrm{^\\circ K}}\n",
    "            \\right)\n",
    "        \\right)\n",
    "\\end{split}\n",
    "\\end{equation}\n",
    "$$"
   ]
  },
  {
   "cell_type": "code",
   "execution_count": 2,
   "metadata": {
    "collapsed": false
   },
   "outputs": [
    {
     "name": "stdout",
     "output_type": "stream",
     "text": [
      "1548722.4000000001\n"
     ]
    }
   ],
   "source": [
    "energy_savings = 600 * (\n",
    "    (4.181 * (100 - 16))\n",
    "    +\n",
    "    2230\n",
    ")\n",
    "print(energy_savings)"
   ]
  },
  {
   "cell_type": "markdown",
   "metadata": {
    "collapsed": true
   },
   "source": [
    "## How much money did I save by wringing out my clothes\n",
    "\n",
    "?? (you can start to figure it out now)"
   ]
  },
  {
   "cell_type": "markdown",
   "metadata": {},
   "source": [
    "## What was my average power output?\n",
    "\n",
    "What would you need to start figuring that out?"
   ]
  },
  {
   "cell_type": "markdown",
   "metadata": {},
   "source": [
    "## What was the opportunity cost?\n",
    "\n",
    "Or, how much would I have to earn at another equivalent activity to make wringing out clothes have a greater-than-zero opportunity cost in terms of electricity bill savings?"
   ]
  },
  {
   "cell_type": "markdown",
   "metadata": {},
   "source": [
    "# Extra credit\n",
    "\n",
    "What are some simplifications you can think of that the opportunity cost calculation is making? Here's one to get you started: running my dryer entails at least a little bit of wear and tear on the dryer, right? I mean, the thing can't run forever. So is the money in the opportunity cost *only* a function of how much I pay in electricity? What do you think? Argue your case."
   ]
  },
  {
   "cell_type": "code",
   "execution_count": null,
   "metadata": {
    "collapsed": true
   },
   "outputs": [],
   "source": []
  }
 ],
 "metadata": {
  "kernelspec": {
   "display_name": "Python 3",
   "language": "python",
   "name": "python3"
  },
  "language_info": {
   "codemirror_mode": {
    "name": "ipython",
    "version": 3
   },
   "file_extension": ".py",
   "mimetype": "text/x-python",
   "name": "python",
   "nbconvert_exporter": "python",
   "pygments_lexer": "ipython3",
   "version": "3.4.3"
  }
 },
 "nbformat": 4,
 "nbformat_minor": 0
}
